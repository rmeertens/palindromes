{
 "cells": [
  {
   "cell_type": "markdown",
   "metadata": {},
   "source": [
    "# World's most complete palindrome?\n",
    "In honor of the 20th of February, 2002, a palindromic date, Peter Norvig designed his [worlds longest unique palindromic sentence of 21,012 words](http://norvig.com/palindrome.html). With a new palindromic date approaching [on August 10, 2018 (8102018)](https://www.livescience.com/33583-palindrome-dates-21st-century-weird.html), I wanted to take some time to see if I could put my own spin on a palindrome world record. While Norvig focused on making his palindrome out of unique words, I just wanted to fit in as many words as possible.\n",
    "\n",
    "The result is a palindrome which contains 64,810 unique phrases. I believe this palindrome contains every word from the noun-phrase dictionary that could possibly be included. \n",
    "This blogpost/notebook will explain what thought process I went through to create the most complete palindromic sentence. First I will briefly explain Norvig's approach and my own idea. Then I will delve into the solution Norvig provides. Lastly, I will explain in detail how I adapted his code to come to my palindromic sentence. \n",
    "\n",
    "## Palindrome statistics\n",
    "Created for:\t8-10-2018 (American notation)  \n",
    "Words: 1,155,699  \n",
    "Letters: 5,813,576  \n",
    "Phrases: 954,401  \n",
    "Unique noun phrases: 64,810  \n",
    "Palindrome:\tA man, a plan, Imo, Naida, ... ([more](https://github.com/rmeertens/palindromes/raw/master/longest_palindrome.txt)) ..., Adi, a nominal, Panama  \n",
    "Storyboard:\n",
    "![Storyboard](https://docs.google.com/drawings/d/e/2PACX-1vT5Rf2U62ZrlLT4XEh4-eG50HPNqPDfENJx_GpHpyIz9b6to2b7ljvHCKg9Osoc-4-QmxFrV2Y8CZIU/pub?w=1085&h=135)"
   ]
  },
  {
   "cell_type": "markdown",
   "metadata": {},
   "source": [
    "\n",
    "Norvig set himself the task to find a palindrome that consisted of only unique words. By dropping this requirement, I was able to create much longer palindromic sentences. Having said that, finding the longest palindrome sentence is not the goal. Putting the word \"radar\" down a million times gives you a long palindrome, but it's far from impressive. What I wanted to do, was create a palindromic sentence with as many words of the English language in it as possible. Let's call this idea a \"complete\" palindromic sentence, and call Norvig's idea a \"unique\" palindromic sentence.\n",
    "\n",
    "To understand my approach, it's best to first take a look at Peter Norvig's solution. He created his palindrome by [depth first searching](https://en.wikipedia.org/wiki/Depth-first_search) for letters that, when added in the middle, would simultaneously complete both sentences on the left and right of the palindrome. When a word on either the left or right side is complete, that word can't be used anymore. The image below is a shortened version of his approach in a simple graphic. I recommend [visiting his website](http://norvig.com/palindrome.html) for the best explanation. \n",
    "\n",
    "![image](https://docs.google.com/drawings/d/e/2PACX-1vSY4uM0gjlnh9hu6emhz8UWVk2CZkinZw_Zd99-OQ0z96UXFvz9O1pRsb-v_VAklCWd0jOc1Ea1mNMR/pub?w=960&h=720)\n",
    "\n",
    "\n",
    "When starting this project I hoped it would be possible to create a sentence with every word in the English language. Although it might not be obvious immediately, this is an impossible task. Take the word Afghanistan. If we would have this word on the left of our palindrome, we would need to have it on the right as well. This means that part of the right part would be the reverse of \"AFGHa\". There is no word that starts with GFA, and no word that ends with HG, so there is no way to combine the part \"HGFA\" in either one or two words. We can thus never include the word Afghanistan in a palindrome. \n",
    "\n",
    "The next best thing was to create a palindrome that includes as many different words as possible. But how?"
   ]
  },
  {
   "cell_type": "markdown",
   "metadata": {},
   "source": [
    "The key to include as many words as possible, is to use a structure you can keep adding to. If the mirror of a palindrome is within a word, you can't expand. By having the mirror in between two words, you can combine separate palindromic sentences into one large sentence. I'll give a simple example.\n",
    "Let's say I have the sentences: \"radar, radar\", \"a treble, Elberta\", and \"an iron, Norina\". I can combine these to form the palindromic sentence \"radar, a treble, an iron, Norina, Elberta, radar\". The only challenge left is finding a palindromic sentence like this for every possible word.\n",
    "\n",
    "I find these by splitting words in two, and finding a way to complete them into a palindromic sentence on the left of the word and on the right of the word. Take for example: \"a plan\". If we split \"aplan\" into \"ap\" and \"lan\", we have to find a palindromic sentence which contains a word that starts with \"pa\" (like \"panama\"). We also need that palindromic sentence to contain a word that ends in \"nal\" (like nominal). And then, repeat. \n",
    "\n",
    "![image](https://docs.google.com/drawings/d/e/2PACX-1vSwuQemcxCXHHb72OIs5V56-aFy3Gd14bYHNjX7wRWK1OQmX0Ola7p2Wkd8OtRERRwIXIKt3FY83kPY/pub?w=516&h=301)\n",
    "\n",
    "Using this technique for the first time, I simply split an input word and tried to find a palindrome that started or ended with both parts of the words. However, I realised that this would not yield a solution for many long words. For example, the word \"autocracies\" can be split in \"autoc\" and \"racies\". Reversing \"racies\" we now search for a word that ends with \"seicar\", which does not exist. However, as \"car\" is a word, we can search for words that end with \"sei\". This could be \"issei\" ([a japanese person who migrated to the US](http://www.dictionary.com/browse/issei)). Thus I expanded my palindrome with 25% by being more flexible.\n",
    "\n",
    "The above is a brief overview of my idea and thinking process. Below we get into the nitty gritty of the coding.\n",
    "\n",
    "\n",
    "## Starting with Norvig's solution\n",
    "Let's first take a look at the solution Norvig provides. He starts searching simultaneously left and right to come to a sentence which is ok from both sides. \n"
   ]
  },
  {
   "cell_type": "code",
   "execution_count": 1,
   "metadata": {
    "collapsed": true
   },
   "outputs": [],
   "source": [
    "from collections import Counter, deque\n",
    "import re\n",
    "import random\n",
    "from multiprocessing import Pool\n",
    "import numpy as np\n",
    "import matplotlib.pyplot as plt\n",
    "\n",
    "\n",
    "random.seed(0) # make sure the outcome is always the same\n",
    "alphabet    = 'abcdefghijklmnopqrstuvwxyz'\n",
    "cat         = ''.join\n",
    "UndoCommand = str\n",
    "DoCommand   = list\n",
    "def rev(word): return word[::-1]\n",
    "\n",
    "class PhraseDict(dict):\n",
    "    \"\"\"A dictionary of {letters: phrase}, such as {'donaldeknuth': 'Donald E. Knuth'}, with:\n",
    "    .prefixes: Counter of {'pre': n} where n is the number of keys that start with 'pre'\n",
    "    .suffixes: Counter of {'xes': n} where n is the number of keys that end with 'xes'\"\"\"\n",
    "    def __init__(self, phrases):\n",
    "        \n",
    "        for phrase in phrases:\n",
    "            phrase = phrase.strip()\n",
    "            self[letters(phrase)] = phrase\n",
    "        self.prefixes = Counter(x for p in self for x in prefixes(p))\n",
    "        self.suffixes = Counter(x for p in self for x in suffixes(p))\n",
    "        \n",
    "def prefixes(phrase): return [phrase[:i] for i in range(1, len(phrase) + 1)]\n",
    "\n",
    "def suffixes(phrase): return [phrase[-i:] for i in range(1, len(phrase) + 1)]\n",
    "\n",
    "def letters(phrase, sub=re.compile(r'[\\W]+').sub):\n",
    "    \"Remove all the non-letters from phrase; return lowercase version.\"\n",
    "    return sub('', phrase).lower()\n",
    "\n",
    "DICT = PhraseDict(open('npdict.txt'))\n",
    "\n",
    "# Converts a list with stripped words as used in the global DICT dictionary into a complete sentence\n",
    "# Note that this was already part of the Panama class\n",
    "def original_phrase(phrases): return ', '.join(DICT[phrase] for phrase in phrases)\n"
   ]
  },
  {
   "cell_type": "code",
   "execution_count": 2,
   "metadata": {
    "collapsed": true
   },
   "outputs": [],
   "source": [
    "class Panama:\n",
    "    \"\"\"Panama represents a palindrome, or a state in searching for one.\n",
    "    It has .left and .right to hold the phrases that are chosen,\n",
    "    and .L and .R to hold the current partial phrases in the middle (still working on these).\n",
    "    Also, a .set of all complete phrases, and the .dict of allowable phrases to choose from.\"\"\"\n",
    "    \n",
    "    def __init__(self, left=['aman', 'aplan'], L='aca', R='', right=['acanal', 'panama'], dict=DICT):\n",
    "        assert cat(left + [L]) == cat([R] + right)[::-1]\n",
    "        self.left   = list(left)        # list of complete phrases on left\n",
    "        self.L      = L                 # an incomplete phrase on left\n",
    "        self.R      = R                 # an incomplete phrase on right\n",
    "        self.right  = deque(right)      # deque of complete phrases on right\n",
    "        self.dict   = dict              # a {letters: actual_phrase} mapping\n",
    "        self.set    = set(left + right) # a set of all complete phrases in palindrome\n",
    "        self.best   = []                # list of phrases in longest palindrome found\n",
    "        self.Nshown = 0                 # the number of phrases shown in the previous printout\n",
    "        self.i      = 0                 # the number of steps taken in the search\n",
    "        self.check()\n",
    "\n",
    "    def __str__(self): return self.original_phrases(self.best)\n",
    "    \n",
    "    def original_phrases(self, phrases): return ', '.join(self.dict[phrase] for phrase in phrases)\n",
    "\n",
    "    def search(self, steps=10**6):\n",
    "        \"\"\"Depth-first search for palindromes. From the current state, find all applicable actions.\n",
    "        Do the first one, and put on the stack reminders to undo it and try the others,\n",
    "        but first search deeper from the result of the first action.\"\"\"\n",
    "        stack = [self.applicable_actions()]\n",
    "        for self.i in range(steps):\n",
    "            if not stack: \n",
    "                return\n",
    "            command = stack.pop()\n",
    "            if isinstance(command, UndoCommand):\n",
    "                self.undo(command)\n",
    "            elif command:\n",
    "                act = command.pop()\n",
    "                self.do(act)\n",
    "                self.check()\n",
    "                stack.extend([command, UndoCommand(act), self.applicable_actions()])\n",
    "                \n",
    "    def do(self, act):\n",
    "        \"Modify the current state by adding a letter, or finishing a phrase.\"\n",
    "        if act == ',': # finish phrase on left\n",
    "            self.set.add(self.L)\n",
    "            self.left.append(self.L)\n",
    "            self.L = ''\n",
    "        elif act == ';': # finish phrase on right\n",
    "            self.set.add(self.R)\n",
    "            self.right.appendleft(self.R)\n",
    "            self.R = ''\n",
    "        else: # add a letter\n",
    "            self.L = self.L + act \n",
    "            self.R = act + self.R\n",
    "    \n",
    "    def undo(self, act):\n",
    "        \"Modify the current state by undoing an action that was previously done.\"\n",
    "        if act == ',': # unfinish phrase on left\n",
    "            assert self.L == ''\n",
    "            self.L = self.left.pop()\n",
    "            self.set.remove(self.L)\n",
    "        elif act == ';': # unfinish phrase on right\n",
    "            assert self.R == ''\n",
    "            self.R = self.right.popleft()\n",
    "            self.set.remove(self.R)\n",
    "        else: # remove a letter\n",
    "            self.L = self.L[:-1]\n",
    "            self.R = self.R[1:]\n",
    "            \n",
    "    def check(self):\n",
    "        \"Check to see if current state is a palindrome, and if so, record it and maybe print.\"\n",
    "        if not self.is_palindrome(): return\n",
    "        N = len(self.left) + len(self.right) \n",
    "        if N > len(self.best):\n",
    "            self.best = self.left + list(self.right)\n",
    "            if N - self.Nshown > 1000 or (N > 14000 and N - self.Nshown > 100) or N > 14500:\n",
    "                self.Nshown = N\n",
    "                print(self.report())\n",
    "            \n",
    "    def report(self):\n",
    "        N = len(self.best)\n",
    "        nwords = N + sum(self.dict[p].count(' ') for p in self.best)\n",
    "        nletters = sum(len(p) for p in self.best)\n",
    "        return ('Pal: {:6,d} phrases, {:6,d} words, {:6,d} letters (at step {:,d})'\n",
    "                .format(N, nwords, nletters, self.i+1))\n",
    "        \n",
    "    def applicable_actions(self):\n",
    "        L, R, D = self.L, self.R, self.dict\n",
    "        actions = []\n",
    "\n",
    "        # Check if L or R are words that are not used yet\n",
    "        if self.is_allowed(L):\n",
    "            actions.append(',')\n",
    "        if self.is_allowed(R):\n",
    "            actions.append(';')\n",
    "            \n",
    "        def score(A): return D.prefixes[L+A] * D.suffixes[A+R]\n",
    "        for A in sorted(alphabet, key=score):\n",
    "            if score(A) > 0:\n",
    "                actions.append(A)    \n",
    "                \n",
    "        return actions\n",
    " \n",
    "    def is_allowed(self, phrase): return phrase in self.dict and phrase not in self.set\n",
    "        \n",
    "    def is_palindrome(self): \n",
    "        \"Is this a palindrome? (Does any extra .L or .R match the other side?)\"\n",
    "        return ((self.L == '' and self.left[-1].endswith(self.R)) or \n",
    "                (self.R == '' and self.right[0].startswith(self.L)))"
   ]
  },
  {
   "cell_type": "code",
   "execution_count": 3,
   "metadata": {},
   "outputs": [
    {
     "name": "stdout",
     "output_type": "stream",
     "text": [
      "Pal:    492 phrases,    693 words,  3,106 letters (at step 10,000)\n",
      "Start and end of the palindrome of Norvig:\n",
      "a man, a plan, a caretaker, a  ... omarek, a ter, a canal, Panama\n"
     ]
    }
   ],
   "source": [
    "p = Panama();\n",
    "p.search(steps=10**4)\n",
    "print(p.report())\n",
    "print(\"Start and end of the palindrome of Norvig:\")\n",
    "print(str(p)[:30] + \" ... \" + str(p)[-30:])"
   ]
  },
  {
   "cell_type": "markdown",
   "metadata": {},
   "source": [
    "The best palindrome Norvig found uses 16.111 phrases. This is only a small part of our total dictionary:"
   ]
  },
  {
   "cell_type": "code",
   "execution_count": 4,
   "metadata": {},
   "outputs": [
    {
     "name": "stdout",
     "output_type": "stream",
     "text": [
      "109401 phrases are not used, this is 87 percent\n"
     ]
    }
   ],
   "source": [
    "unused_phrases = len(DICT.keys()) - 16111\n",
    "print(\"%d phrases are not used, this is %d percent\" % (unused_phrases, (unused_phrases/len(DICT.keys()))*100))"
   ]
  },
  {
   "cell_type": "markdown",
   "metadata": {},
   "source": [
    "For my approach to palindromic sentences I wanted to do something different. To prove that a word can actually be used in a sentence we can create a sentence with that word in it. If we create such a sentence for every word, we can concatenate them later into one sentence which contains as much words as possible. \n",
    "\n",
    "I discovered that Norvig's Panama class can be extended to do exactly what I wanted to do!"
   ]
  },
  {
   "cell_type": "code",
   "execution_count": 5,
   "metadata": {
    "collapsed": true
   },
   "outputs": [],
   "source": [
    "class RolandsPalindromeSentence(Panama):\n",
    "    def __init__(self,left=None, right=None, L='', R='', dict=DICT):\n",
    "        self.left = left if left is not None else list()\n",
    "        self.right = deque(right) if right is not None else deque(list())    \n",
    "        self.L      = L \n",
    "        self.R      = R \n",
    "        self.dict   = dict    \n",
    "        self.set    = set() \n",
    "        self.best   = []                # list of phrases in longest palindrome found\n",
    "        self.Nshown = 0                 # the number of phrases shown in the previous printout\n",
    "        self.i      = 0                 # the number of steps taken in the search\n",
    "\n",
    "    def search(self, steps):\n",
    "        \"\"\"Returns if the search found a complete palindromic sentence\"\"\"\n",
    "        stack = [self.applicable_actions()]\n",
    "        for self.i in range(steps):\n",
    "            if not stack: \n",
    "                return False\n",
    "            command = stack.pop()\n",
    "            if isinstance(command, UndoCommand):\n",
    "                self.undo(command)\n",
    "            elif command:\n",
    "                act = command.pop()\n",
    "                self.do(act)\n",
    "                if self.check():\n",
    "                    return True\n",
    "                stack.extend([command, UndoCommand(act), self.applicable_actions()])\n",
    "        return False    \n",
    "    \n",
    "    def check(self):\n",
    "        \"\"\"Only have to check for empty right and left, as this means that we are done... \"\"\"\n",
    "        return self.R == '' and self.L == '' \n",
    "    \n",
    "    \n",
    "    def applicable_actions(self):\n",
    "        L, R, D = self.L, self.R, self.dict\n",
    "        actions = []\n",
    "\n",
    "        # Check if L or R are words that are not used yet\n",
    "        if self.is_allowed(L):\n",
    "            actions.append(',')\n",
    "        if self.is_allowed(R):\n",
    "            actions.append(';')\n",
    "        nextones = list()\n",
    "        \n",
    "        def score(A): return D.prefixes[L+A] * D.suffixes[A+R]\n",
    "        \n",
    "        for A in alphabet:\n",
    "            if score(A) > 0:\n",
    "                nextones.append(A)    \n",
    "        random.shuffle(nextones)        \n",
    "        return actions + nextones"
   ]
  },
  {
   "cell_type": "markdown",
   "metadata": {},
   "source": [
    "As I wrote down above, sometimes part of the start of the palindrome you are searching already consists of known words. This means that we can split them. Here I give a function that does this from the left, and a function that does this from the right. "
   ]
  },
  {
   "cell_type": "code",
   "execution_count": 6,
   "metadata": {},
   "outputs": [
    {
     "name": "stdout",
     "output_type": "stream",
     "text": [
      "[([], 'amanaplan'), (['ama'], 'naplan'), (['ama', 'nap'], 'lan'), (['ama', 'nap', 'lan'], ''), (['aman'], 'aplan'), (['aman', 'apl'], 'an'), (['aman', 'aplan'], ''), (['amana'], 'plan')]\n",
      "[([], 'amanaplan'), (['lan'], 'amanap'), (['nap', 'lan'], 'ama'), (['ama', 'nap', 'lan'], ''), (['anap', 'lan'], 'am'), (['aplan'], 'aman'), (['man', 'aplan'], 'a'), (['aman', 'aplan'], '')]\n"
     ]
    }
   ],
   "source": [
    "def generate_subsets_and_leftover(letters):\n",
    "    \"\"\"Generate subsets of words from given letters. It starts searching for words\n",
    "    from the left of the supplied letters. \n",
    "    \n",
    "    yields a tuple ([words], remaining letters at the end of the word)\"\"\"\n",
    "    yield ([], letters)\n",
    "    for leftover_count in range(1,len(letters)+1):\n",
    "        start_of_word = letters[:leftover_count]\n",
    "        if start_of_word in DICT:\n",
    "            w = start_of_word\n",
    "            leftover = letters[leftover_count:]\n",
    "            \n",
    "            for words, leftover_letters in generate_subsets_and_leftover(leftover):                \n",
    "                yield ([w] + words, leftover_letters)\n",
    "                \n",
    "print([a for a in generate_subsets_and_leftover(\"amanaplan\") ])\n",
    "\n",
    "def generate_subsets_and_leftover_right(letters):\n",
    "    \"\"\"Generate subsets of words from given letters. It starts searching for words\n",
    "    from the right of the supplied letters\n",
    "    \n",
    "    yields a tuple ([words], remaining letters at the start of the word)\"\"\"\n",
    "    yield ([], letters)\n",
    "    for leftover_count in range(1,len(letters)+1):\n",
    "        possible_word = letters[-leftover_count:]\n",
    "        if possible_word in DICT:\n",
    "            w = possible_word\n",
    "            leftover = letters[:-leftover_count]\n",
    "            \n",
    "            for words, leftover_letters in generate_subsets_and_leftover_right(leftover):                \n",
    "                yield (words + [w], leftover_letters)\n",
    "        \n",
    "print([a for a in generate_subsets_and_leftover_right(\"amanaplan\") ])"
   ]
  },
  {
   "cell_type": "markdown",
   "metadata": {},
   "source": [
    "Eventually this leads to the following function which splits a word and either returns two searchers (for left and right searching), or returns None when no palindrome could be found. "
   ]
  },
  {
   "cell_type": "code",
   "execution_count": 7,
   "metadata": {
    "collapsed": true
   },
   "outputs": [],
   "source": [
    "def get_palindrome_for_word(word, num_steps):\n",
    "    for i in range(1,len(word)):\n",
    "        must_start_with = rev(word[:i])\n",
    "        must_end_with = rev(word[i:])\n",
    "\n",
    "        # Search a palindrome which completes the right part of the word\n",
    "        found_result = False\n",
    "        for left, leftover in generate_subsets_and_leftover(must_start_with):\n",
    "            searcher_right = RolandsPalindromeSentence(left=left, L=leftover, R='')\n",
    "            if searcher_right.search(steps=num_steps): \n",
    "                found_result = True\n",
    "                break\n",
    "        \n",
    "        if not found_result: \n",
    "            continue\n",
    "            \n",
    "        # Search a palindrome which completes the left part of the word\n",
    "        found_result = False\n",
    "        for right, leftover in generate_subsets_and_leftover_right(must_end_with):\n",
    "            searcher_left = RolandsPalindromeSentence(L='', R=leftover, right=right)\n",
    "            \n",
    "            if searcher_left.search(steps=num_steps):\n",
    "                found_result = True\n",
    "                break\n",
    "        if not found_result:\n",
    "            continue\n",
    "        \n",
    "        return searcher_right, searcher_left, word\n",
    "    return None"
   ]
  },
  {
   "cell_type": "markdown",
   "metadata": {},
   "source": [
    "Finally we defined all helper functions. Time to start searching a palindrome for each word in the dictionary. As we now do this for each phrase in our dictionary this takes quite a long time. "
   ]
  },
  {
   "cell_type": "code",
   "execution_count": 8,
   "metadata": {
    "collapsed": true,
    "scrolled": false
   },
   "outputs": [],
   "source": [
    "words_already_used = set()\n",
    "num_steps=10**5 # note that this seems to be enough to traverse the whole tree\n",
    "subsolutions = list()\n",
    "\n",
    "all_words = list(DICT.keys())\n",
    "for num, word in enumerate(all_words):\n",
    "    if word in words_already_used:\n",
    "        continue\n",
    "    result = get_palindrome_for_word(word, num_steps)\n",
    "    if result:\n",
    "        searcher_right, searcher_left, word = result\n",
    "        \n",
    "        left_part_palindrome = list(searcher_right.right) + [word] + searcher_left.left\n",
    "        right_part_palindrome = list(searcher_left.right) + searcher_right.left\n",
    "\n",
    "        assert cat(left_part_palindrome) == rev(cat(right_part_palindrome))\n",
    "\n",
    "        subsolutions.append((left_part_palindrome, right_part_palindrome))\n",
    "        \n",
    "        words_already_used.update(left_part_palindrome)\n",
    "        words_already_used.update(right_part_palindrome)"
   ]
  },
  {
   "cell_type": "markdown",
   "metadata": {
    "collapsed": true
   },
   "source": [
    "Now that we have a big collection of subsolutions we can start to create a big sentence out of this. We also add the characteristic \"a man, a plan ... panama\" to it. "
   ]
  },
  {
   "cell_type": "code",
   "execution_count": 9,
   "metadata": {
    "collapsed": true
   },
   "outputs": [],
   "source": [
    "concat_words = deque()\n",
    "subsolutions = subsolutions\n",
    "\n",
    "for left, right in subsolutions:\n",
    "    concat_words.extendleft(rev(left)) # note that a deque reverses the order of our words... \n",
    "    concat_words.extend(right)\n",
    "\n",
    "# Add the traditional \"a man a plan\" as start of the palindrome\n",
    "concat_words.extendleft(rev([\"aman\", \"aplan\", \"imo\", \"naida\"]))\n",
    "concat_words.extend([\"adi\", \"anominal\", \"panama\"])\n",
    "\n",
    "\n",
    "assert cat(concat_words) == rev(cat(concat_words))\n",
    "total_sentence = original_phrase(concat_words)"
   ]
  },
  {
   "cell_type": "code",
   "execution_count": 10,
   "metadata": {},
   "outputs": [
    {
     "name": "stdout",
     "output_type": "stream",
     "text": [
      "The start and end of our palindrome: \n",
      "a man, a plan, Imo, Naida, a fun, a zakat, Calabresi, a gleet, Sheff, Arg, an acyl, a shiai, Liv, a \n",
      "gue, Mavilia, IHS, a lyc, an agraffe, H-steel, Gaiser, Bala, CTA, Kazan, Ufa, Adi, a nominal, Panama\n"
     ]
    }
   ],
   "source": [
    "print(\"The start and end of our palindrome: \")\n",
    "print(total_sentence[:100])\n",
    "print(total_sentence[-100:])"
   ]
  },
  {
   "cell_type": "markdown",
   "metadata": {},
   "source": [
    "Let's report the statistics of our generated palindrome! Also: let's write our palindrome to a file so others can read it later. "
   ]
  },
  {
   "cell_type": "code",
   "execution_count": 11,
   "metadata": {},
   "outputs": [
    {
     "name": "stdout",
     "output_type": "stream",
     "text": [
      "Words: 1155699\n",
      "Letters: 5813576\n",
      "Phrases: 954401\n",
      "Unique noun phrases: 64810\n",
      "109401 phrases are not used, this is 48 percent\n"
     ]
    }
   ],
   "source": [
    "num_words = len(total_sentence.split())\n",
    "num_letters = len(total_sentence) - total_sentence.count(' ')\n",
    "num_phrases = len(concat_words)\n",
    "num_unique_phrases = len(set(concat_words))\n",
    "num_unused_phrases = len(DICT.keys()) - num_unique_phrases\n",
    "print(\"Words: %d\" % num_words)\n",
    "print(\"Letters: %d\" % num_letters)\n",
    "print(\"Phrases: %d\" % num_phrases)\n",
    "print(\"Unique noun phrases: %d\" % num_unique_phrases)\n",
    "print(\"%d phrases are not used, this is %d percent\" % (unused_phrases, (num_unused_phrases/len(DICT.keys()))*100))\n",
    "\n",
    "with open('longest_palindrome.txt','w') as f:\n",
    "    f.write(total_sentence)\n"
   ]
  },
  {
   "cell_type": "markdown",
   "metadata": {},
   "source": [
    "### Palyndrome analysis\n",
    "Now that we have the most complete palyndrome, I thought it would be nice to get some statistics about it. As you can see after running the code below, the most frequent word is \"Sal\". I was quite amazed about the longest word. It's very fitting that the longest word happens to be the voice actor of the [Star Trek computer](https://en.wikipedia.org/wiki/Majel_Barrett). \n",
    "\n",
    "Also interesting is that when looking at the frequency of occurance we see that the distribution follows [Zipf's law](https://en.wikipedia.org/wiki/Zipf%27s_law). "
   ]
  },
  {
   "cell_type": "code",
   "execution_count": 12,
   "metadata": {},
   "outputs": [
    {
     "name": "stdout",
     "output_type": "stream",
     "text": [
      "The most common words are:\n",
      "Sal occurs 2160 times\n",
      "IHS occurs 1909 times\n",
      "Nah occurs 1896 times\n",
      "Rev occurs 1632 times\n",
      "Nam occurs 1590 times\n",
      "Rep occurs 1544 times\n",
      "Reb occurs 1485 times\n",
      "Hsu occurs 1310 times\n",
      "TQ occurs 1260 times\n",
      "Red occurs 1230 times\n",
      "\n",
      "The least common words are:\n",
      "summae occurs 1 times\n",
      "an uraemia occurs 1 times\n",
      "daimyos occurs 1 times\n",
      "cooeying occurs 1 times\n",
      "veterinaries occurs 1 times\n",
      "turbos occurs 1 times\n",
      "muftis occurs 1 times\n",
      "oxymomora occurs 1 times\n",
      "private parts occurs 1 times\n",
      "uvulatomies occurs 1 times\n",
      "\n",
      "The longest words are:\n",
      "Majel Barrett Roddenberry\n",
      "an overapprehensiveness\n",
      "a nonrepresentativeness\n",
      "an oversystematicalness\n",
      "an unrepresentativeness\n",
      "a nondeterminativeness\n",
      "an unreprehensibleness\n",
      "an overaffirmativeness\n",
      "a nonreprehensibleness\n",
      "an overdecorativeness\n"
     ]
    },
    {
     "data": {
      "image/png": "[encoded data removed]",
      "text/plain": [
       "<matplotlib.figure.Figure at 0x104915048>"
      ]
     },
     "metadata": {},
     "output_type": "display_data"
    }
   ],
   "source": [
    "from collections import Counter\n",
    "count_words = Counter(concat_words)\n",
    "print(\"The most common words are:\")\n",
    "for word, count in count_words.most_common(10):\n",
    "    print(\"%s occurs %d times\" % (DICT[word], count))\n",
    "\n",
    "print(\"\\nThe least common words are:\")\n",
    "for word, count in count_words.most_common()[-10:]:\n",
    "    print(\"%s occurs %d times\" % (DICT[word], count))\n",
    "    \n",
    "print(\"\\nThe longest words are:\")\n",
    "sorted_on_length = sorted(list(set(concat_words)), key=len, reverse=True)\n",
    "for word in sorted_on_length[:10]:\n",
    "    print(DICT[word])\n",
    "\n",
    "labels, values = zip(*count_words.most_common(10000))\n",
    "plt.plot(values)\n",
    "plt.title(\"The distribution of the frequency of words\")\n",
    "plt.show()"
   ]
  },
  {
   "cell_type": "markdown",
   "metadata": {},
   "source": [
    "## Conclusion\n",
    "Hurray! We created the most complete palindromic sentence in the English language! Depending on the search depth for the depth-first search it is possible to not find a palindromic sentence for some words. However, I set the depth so deep this never happens. It's safe to assume that I included every word out of our dictionary in my palindromic sentence you can possible include. "
   ]
  },
  {
   "cell_type": "markdown",
   "metadata": {},
   "source": [
    "## Next steps\n",
    "There are some next challenges I either want work on at another palindromic day, or that someone else can tackle. \n",
    "\n",
    "### The shortest complete palindromic sentence\n",
    "While working on this I started wondering what the shortest complete palindromic sentence we can create is. Of course we can create palindromic sentences for every word, and then combine them in a way that covers the most unique words with the shortest sentence. This new problem is a disguised version of the [set cover problem](https://en.wikipedia.org/wiki/Set_cover_problem). The bad news is that this problem is NP-hard, which means that someone probably has to come up with a good heuristic to the problem. \n",
    "\n",
    "### Multi-threaded attempts\n",
    "Although Norvig's solution finds a palindrome in 30 minutes, my solution only takes 10 minutes. However, I think we can parallelize it even more. I made an attempt to introduce multi-threading in my program. Unfortunately, Pythons Global Interpreter Lock hinders any speedup if we want to use only one instance of the dictionary... If you have any ideas on how to improve the speed of my program, please let me know or send in a pull request!\n",
    "\n",
    "### Find a better dictionary\n",
    "Let's be honest, the dictionary we use is terrible. I kept it as Norvig used it for his palindrome, so it offers a nice comparison to his work. However, it would be more impressive if the palindrome made a bit more sense. "
   ]
  }
 ],
 "metadata": {
  "kernelspec": {
   "display_name": "Python 3",
   "language": "python",
   "name": "python3"
  },
  "language_info": {
   "codemirror_mode": {
    "name": "ipython",
    "version": 3
   },
   "file_extension": ".py",
   "mimetype": "text/x-python",
   "name": "python",
   "nbconvert_exporter": "python",
   "pygments_lexer": "ipython3",
   "version": "3.6.0"
  }
 },
 "nbformat": 4,
 "nbformat_minor": 2
}
